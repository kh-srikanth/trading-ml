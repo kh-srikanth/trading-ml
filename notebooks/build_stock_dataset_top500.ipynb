{
 "cells": [
  {
   "cell_type": "code",
   "execution_count": 2,
   "id": "227500d8-6d15-4d17-b7a4-acff69bc330f",
   "metadata": {},
   "outputs": [],
   "source": [
    "# 🧱 PART 1: Imports and Setup\n",
    "import requests\n",
    "import pandas as pd\n",
    "import yfinance as yf\n",
    "from datetime import datetime, timedelta\n",
    "from tqdm import tqdm\n",
    "import time\n",
    "\n",
    "# Headers to simulate browser for NSE site\n",
    "headers = {\n",
    "    \"User-Agent\": \"Mozilla/5.0\"\n",
    "}\n"
   ]
  },
  {
   "cell_type": "code",
   "execution_count": 5,
   "id": "d822a3df-df4c-420f-aa9d-b0caff4afb12",
   "metadata": {},
   "outputs": [
    {
     "ename": "ImportError",
     "evalue": "cannot import name 'nse_top_gainers' from 'nsepython' (/home/user/anaconda3/envs/dev/lib/python3.11/site-packages/nsepython/__init__.py)",
     "output_type": "error",
     "traceback": [
      "\u001b[31m---------------------------------------------------------------------------\u001b[39m",
      "\u001b[31mImportError\u001b[39m                               Traceback (most recent call last)",
      "\u001b[36mCell\u001b[39m\u001b[36m \u001b[39m\u001b[32mIn[5]\u001b[39m\u001b[32m, line 1\u001b[39m\n\u001b[32m----> \u001b[39m\u001b[32m1\u001b[39m \u001b[38;5;28;01mfrom\u001b[39;00m\u001b[38;5;250m \u001b[39m\u001b[34;01mnsepython\u001b[39;00m\u001b[38;5;250m \u001b[39m\u001b[38;5;28;01mimport\u001b[39;00m nse_top_gainers\n\u001b[32m      3\u001b[39m gainers = nse_top_gainers()\n\u001b[32m      4\u001b[39m \u001b[38;5;28mprint\u001b[39m(gainers[:\u001b[32m5\u001b[39m])\n",
      "\u001b[31mImportError\u001b[39m: cannot import name 'nse_top_gainers' from 'nsepython' (/home/user/anaconda3/envs/dev/lib/python3.11/site-packages/nsepython/__init__.py)"
     ]
    }
   ],
   "source": [
    "# from nsepython import nse_top_gainers\n",
    "\n",
    "# gainers = nse_top_gainers()\n",
    "# print(gainers[:5])\n"
   ]
  },
  {
   "cell_type": "code",
   "execution_count": 9,
   "id": "6883fa46-9b2a-407f-a079-71ceedf61e7a",
   "metadata": {},
   "outputs": [
    {
     "name": "stdout",
     "output_type": "stream",
     "text": [
      "Available Categories: ['NIFTY', 'BANKNIFTY', 'NIFTYNEXT50', 'SecGtr20', 'SecLwr20', 'FOSec', 'allSec']\n",
      "✅ Top 50 NIFTY gainers saved to 'nifty_top_50_gainers.csv'\n"
     ]
    }
   ],
   "source": [
    "import requests\n",
    "import pandas as pd\n",
    "\n",
    "headers = {\n",
    "    \"User-Agent\": \"Mozilla/5.0\"\n",
    "}\n",
    "\n",
    "# NSE API URL (Live Variation)\n",
    "url = \"https://www.nseindia.com/api/live-analysis-variations?index=gainers\"\n",
    "\n",
    "# Create session for cookies\n",
    "session = requests.Session()\n",
    "session.headers.update(headers)\n",
    "session.get(\"https://www.nseindia.com\")  # initial hit for cookies\n",
    "\n",
    "# Get JSON response\n",
    "res = session.get(url)\n",
    "data = res.json()\n",
    "\n",
    "# Check available categories\n",
    "available_categories = [cat[0] for cat in data['legends']]\n",
    "print(\"Available Categories:\", available_categories)\n",
    "\n",
    "# Let's focus on NIFTY only for now\n",
    "nifty_data = data.get(\"NIFTY\", {}).get(\"data\", [])\n",
    "\n",
    "# Convert to DataFrame\n",
    "df = pd.DataFrame(nifty_data)\n",
    "\n",
    "# Rename and sort\n",
    "df = df.rename(columns={\n",
    "    \"symbol\": \"Symbol\",\n",
    "    \"ltp\": \"Last Price\",\n",
    "    \"prev_price\": \"Previous Price\",\n",
    "    \"perChange\": \"% Change\",\n",
    "    \"trade_quantity\": \"Volume\",\n",
    "    \"turnover\": \"Turnover (Cr)\"\n",
    "})\n",
    "\n",
    "df = df.sort_values(by=\"% Change\", ascending=False).reset_index(drop=True)\n",
    "\n",
    "# Keep top 50 if available\n",
    "df_top50 = df.head(50)\n",
    "\n",
    "# Save to CSV\n",
    "df_top50.to_csv(\"nifty_top_50_gainers.csv\", index=False)\n",
    "\n",
    "print(\"✅ Top 50 NIFTY gainers saved to 'nifty_top_50_gainers.csv'\")\n"
   ]
  },
  {
   "cell_type": "code",
   "execution_count": 13,
   "id": "4e85988f-1bef-4063-a97c-73438be4c54c",
   "metadata": {},
   "outputs": [
    {
     "name": "stdout",
     "output_type": "stream",
     "text": [
      "✅ NIFTY 500 symbols saved to nifty_500_symbols.csv\n"
     ]
    }
   ],
   "source": [
    "import pandas as pd\n",
    "\n",
    "#url = \"https://www1.nseindia.com/content/indices/ind_nifty500list.csv\"\n",
    "url = \"https://archives.nseindia.com/content/indices/ind_nifty500list.csv\"\n",
    "\n",
    "\n",
    "df_nifty500 = pd.read_csv(url)\n",
    "df_nifty500[\"Symbol_NS\"] = df_nifty500[\"Symbol\"] + \".NS\"\n",
    "\n",
    "# Save for later use\n",
    "df_nifty500.to_csv(\"nifty_500_symbols.csv\", index=False)\n",
    "print(\"✅ NIFTY 500 symbols saved to nifty_500_symbols.csv\")\n"
   ]
  },
  {
   "cell_type": "code",
   "execution_count": 15,
   "id": "cb0a3c08-751e-4611-a531-d24c253be8d1",
   "metadata": {},
   "outputs": [
    {
     "name": "stderr",
     "output_type": "stream",
     "text": [
      " 11%|████▌                                     | 54/503 [01:07<07:19,  1.02it/s]\n",
      "1 Failed download:\n",
      "['DMART.NS']: Timeout('Failed to perform, curl: (28) Connection timed out after 10000 milliseconds. See https://curl.se/libcurl/c/libcurl-errors.html first for more details.')\n",
      " 29%|███████████▋                             | 144/503 [03:19<06:38,  1.11s/it]HTTP Error 404: \n",
      "\n",
      "1 Failed download:\n",
      "['DUMMYRAYMN.NS']: YFTzMissingError('possibly delisted; no timezone found')\n",
      " 43%|█████████████████▌                       | 216/503 [04:28<06:34,  1.37s/it]Failed to get ticker 'HYUNDAI.NS' reason: Failed to perform, curl: (28) Connection timed out after 10002 milliseconds. See https://curl.se/libcurl/c/libcurl-errors.html first for more details.\n",
      " 52%|█████████████████████▏                   | 260/503 [06:28<09:33,  2.36s/it]Failed to get ticker 'JPPOWER.NS' reason: Failed to perform, curl: (28) Operation timed out after 10000 milliseconds with 0 bytes received. See https://curl.se/libcurl/c/libcurl-errors.html first for more details.\n",
      "\n",
      "1 Failed download:\n",
      "['JPPOWER.NS']: YFTzMissingError('possibly delisted; no timezone found')\n",
      " 54%|██████████████████████                   | 271/503 [07:12<16:07,  4.17s/it]Failed to get ticker 'JYOTHYLAB.NS' reason: Failed to perform, curl: (28) Connection timed out after 10002 milliseconds. See https://curl.se/libcurl/c/libcurl-errors.html first for more details.\n",
      "\n",
      "1 Failed download:\n",
      "['JYOTHYLAB.NS']: YFTzMissingError('possibly delisted; no timezone found')\n",
      " 81%|█████████████████████████████████▎       | 409/503 [11:32<04:13,  2.70s/it]Failed to get ticker 'SAREGAMA.NS' reason: Failed to perform, curl: (28) Connection timed out after 10001 milliseconds. See https://curl.se/libcurl/c/libcurl-errors.html first for more details.\n",
      "\n",
      "1 Failed download:\n",
      "['SAREGAMA.NS']: YFTzMissingError('possibly delisted; no timezone found')\n",
      " 94%|██████████████████████████████████████▋  | 474/503 [13:09<00:34,  1.18s/it]\n",
      "1 Failed download:\n",
      "['ULTRACEMCO.NS']: Timeout('Failed to perform, curl: (28) Operation timed out after 10002 milliseconds with 0 bytes received. See https://curl.se/libcurl/c/libcurl-errors.html first for more details.')\n",
      " 96%|███████████████████████████████████████▏ | 481/503 [13:34<00:38,  1.77s/it]Failed to get ticker 'VTL.NS' reason: Failed to perform, curl: (28) Operation timed out after 10001 milliseconds with 0 bytes received. See https://curl.se/libcurl/c/libcurl-errors.html first for more details.\n",
      "\n",
      "1 Failed download:\n",
      "['VTL.NS']: YFTzMissingError('possibly delisted; no timezone found')\n",
      "100%|█████████████████████████████████████████| 503/503 [14:08<00:00,  1.69s/it]\n"
     ]
    }
   ],
   "source": [
    "import yfinance as yf\n",
    "from datetime import datetime, timedelta\n",
    "from tqdm import tqdm\n",
    "import time\n",
    "\n",
    "start = datetime.today() - timedelta(days=365)\n",
    "end = datetime.today()\n",
    "\n",
    "all_data = []\n",
    "missed_symbols=[]\n",
    "for symbol in tqdm(df_nifty500['Symbol_NS'].tolist()):\n",
    "    try:\n",
    "        data = yf.download(symbol, start=start, end=end, progress=False, auto_adjust=False)\n",
    "        data['symbol'] = symbol.replace('.NS', '')\n",
    "        data.reset_index(inplace=True)\n",
    "        all_data.append(data)\n",
    "        time.sleep(0.5)  # avoid throttling\n",
    "    except Exception as e:\n",
    "        print(f\"❌ {symbol}: {e}\")\n",
    "        missed_symbol.append(symbol)\n"
   ]
  },
  {
   "cell_type": "code",
   "execution_count": null,
   "id": "2ba52f31-4445-46d3-9a9d-92cbd2dba15b",
   "metadata": {},
   "outputs": [],
   "source": []
  }
 ],
 "metadata": {
  "kernelspec": {
   "display_name": "Python 3 (ipykernel)",
   "language": "python",
   "name": "python3"
  },
  "language_info": {
   "codemirror_mode": {
    "name": "ipython",
    "version": 3
   },
   "file_extension": ".py",
   "mimetype": "text/x-python",
   "name": "python",
   "nbconvert_exporter": "python",
   "pygments_lexer": "ipython3",
   "version": "3.11.5"
  }
 },
 "nbformat": 4,
 "nbformat_minor": 5
}
